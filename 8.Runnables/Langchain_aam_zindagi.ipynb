{
 "cells": [
  {
   "cell_type": "code",
   "execution_count": 1,
   "id": "26a42610",
   "metadata": {},
   "outputs": [],
   "source": [
    "import random\n",
    "class FakeLLM():\n",
    "    \n",
    "    def __init__(self):\n",
    "        print(\"LLM created\")\n",
    "        \n",
    "    def predict(self, prompt):\n",
    "        response_list = [\n",
    "            \"Delhi is the capital of India\",\n",
    "            \"IPL is a cricket league\",\n",
    "            \"AI stands for Artificial Intelligence\"\n",
    "        ]\n",
    "        return {'response': random.choice(response_list)}"
   ]
  },
  {
   "cell_type": "code",
   "execution_count": 4,
   "id": "4ef275b4",
   "metadata": {},
   "outputs": [],
   "source": [
    "class FakePromptTemplate():\n",
    "    \n",
    "    def __init__(self, template, input_variables):\n",
    "        self.template = template\n",
    "        self.input_variables = input_variables\n",
    "        \n",
    "    def format(self, input_dict):\n",
    "        return self.template.format(**input_dict)"
   ]
  },
  {
   "cell_type": "code",
   "execution_count": 9,
   "id": "46f050e5",
   "metadata": {},
   "outputs": [],
   "source": [
    "template = FakePromptTemplate(\n",
    "    template=\"write a {length} poem about {topic}\",\n",
    "    input_variables=[\"length\",\"topic\"]\n",
    ")"
   ]
  },
  {
   "cell_type": "code",
   "execution_count": 11,
   "id": "1ae86f99",
   "metadata": {},
   "outputs": [],
   "source": [
    "prompt = template.format({'length': 'short','topic': \"India\"})"
   ]
  },
  {
   "cell_type": "code",
   "execution_count": 12,
   "id": "769ce7d7",
   "metadata": {},
   "outputs": [
    {
     "name": "stdout",
     "output_type": "stream",
     "text": [
      "LLM created\n"
     ]
    }
   ],
   "source": [
    "llm = FakeLLM()"
   ]
  },
  {
   "cell_type": "code",
   "execution_count": 13,
   "id": "6d7bf451",
   "metadata": {},
   "outputs": [
    {
     "data": {
      "text/plain": [
       "{'response': 'AI stands for Artificial Intelligence'}"
      ]
     },
     "execution_count": 13,
     "metadata": {},
     "output_type": "execute_result"
    }
   ],
   "source": [
    "llm.predict(prompt=prompt)"
   ]
  },
  {
   "cell_type": "code",
   "execution_count": 14,
   "id": "88de6ab1",
   "metadata": {},
   "outputs": [],
   "source": [
    "class FakeLLMChain:\n",
    "    \n",
    "    def __init__(self, llm, prompt):\n",
    "        self.llm = llm\n",
    "        self.prompt = prompt\n",
    "        \n",
    "    def run(self, input_dict):\n",
    "        final_prompt = self.prompt.format(input_dict)\n",
    "        result = self.llm.predict(final_prompt)\n",
    "        return result[\"response\"]"
   ]
  },
  {
   "cell_type": "code",
   "execution_count": 15,
   "id": "0bbe8b9b",
   "metadata": {},
   "outputs": [],
   "source": [
    "prompt = FakePromptTemplate(\n",
    "    template=\"write a {length} poem about {topic}\",\n",
    "    input_variables=[\"length\", \"topic\"]\n",
    ")"
   ]
  },
  {
   "cell_type": "code",
   "execution_count": 16,
   "id": "c8af9e2c",
   "metadata": {},
   "outputs": [
    {
     "name": "stdout",
     "output_type": "stream",
     "text": [
      "LLM created\n"
     ]
    }
   ],
   "source": [
    "llm = FakeLLM()"
   ]
  },
  {
   "cell_type": "code",
   "execution_count": 17,
   "id": "3cc3a162",
   "metadata": {},
   "outputs": [],
   "source": [
    "chain = FakeLLMChain(llm=llm, prompt=prompt)"
   ]
  },
  {
   "cell_type": "code",
   "execution_count": 18,
   "id": "0634aa3e",
   "metadata": {},
   "outputs": [
    {
     "data": {
      "text/plain": [
       "'AI stands for Artificial Intelligence'"
      ]
     },
     "execution_count": 18,
     "metadata": {},
     "output_type": "execute_result"
    }
   ],
   "source": [
    "chain.run({\"length\" : \"short\", \"topic\": \"India\"})"
   ]
  },
  {
   "cell_type": "code",
   "execution_count": null,
   "id": "3384bd82",
   "metadata": {},
   "outputs": [],
   "source": []
  }
 ],
 "metadata": {
  "kernelspec": {
   "display_name": ".venv",
   "language": "python",
   "name": "python3"
  },
  "language_info": {
   "codemirror_mode": {
    "name": "ipython",
    "version": 3
   },
   "file_extension": ".py",
   "mimetype": "text/x-python",
   "name": "python",
   "nbconvert_exporter": "python",
   "pygments_lexer": "ipython3",
   "version": "3.12.2"
  }
 },
 "nbformat": 4,
 "nbformat_minor": 5
}
