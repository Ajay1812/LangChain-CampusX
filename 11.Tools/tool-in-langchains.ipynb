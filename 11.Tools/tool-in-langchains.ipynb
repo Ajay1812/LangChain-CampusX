{
 "cells": [
  {
   "cell_type": "code",
   "execution_count": 36,
   "id": "b571369a",
   "metadata": {},
   "outputs": [
    {
     "name": "stdout",
     "output_type": "stream",
     "text": [
      "\n",
      "\u001b[1m[\u001b[0m\u001b[34;49mnotice\u001b[0m\u001b[1;39;49m]\u001b[0m\u001b[39;49m A new release of pip is available: \u001b[0m\u001b[31;49m25.0.1\u001b[0m\u001b[39;49m -> \u001b[0m\u001b[32;49m25.1.1\u001b[0m\n",
      "\u001b[1m[\u001b[0m\u001b[34;49mnotice\u001b[0m\u001b[1;39;49m]\u001b[0m\u001b[39;49m To update, run: \u001b[0m\u001b[32;49mpip install --upgrade pip\u001b[0m\n"
     ]
    }
   ],
   "source": [
    "!pip install -q duckduckgo-search  langchain-experimental"
   ]
  },
  {
   "cell_type": "markdown",
   "id": "846086a7",
   "metadata": {},
   "source": [
    "#### Builtin Tools - DuckDuckGoSearch"
   ]
  },
  {
   "cell_type": "code",
   "execution_count": 37,
   "id": "841765f1",
   "metadata": {},
   "outputs": [
    {
     "name": "stdout",
     "output_type": "stream",
     "text": [
      "Today's Delhi News: Get all the Latest and Breaking Delhi News on NDTV. Live local Delhi news coverage and updates on Politics, Election, Weather, Crime and More Read the latest Delhi news, headlines & breaking news from Delhi, Delhi crime news, real estate news, politics news, Delhi local news and more at freepressjournal.in Delhi News- Get the latest delhi news including political news, current affairs, delhi Crime news, local news headlines and many more on The Telegraph New Delhi News Updates: Get Latest Breaking News, Photos and Video News on New Delhi. Also find New Delhi latest news headlines, picture gallery, top videos, comments, blog posts and opinion at The Indian Express. Delhi News: Find latest New Delhi news and Headlines from Delhi City. Also check out latest news belongs to Delhi crime, Delhi education news, Delhi real estate, Delhi politics and more\n"
     ]
    }
   ],
   "source": [
    "from langchain_community.tools import DuckDuckGoSearchRun\n",
    "\n",
    "search_tool = DuckDuckGoSearchRun()\n",
    "result = search_tool.invoke('Latest Delhi News')\n",
    "print(result)"
   ]
  },
  {
   "cell_type": "markdown",
   "id": "91d6d566",
   "metadata": {},
   "source": [
    "#### Builtin Tools - ShellTool\n"
   ]
  },
  {
   "cell_type": "code",
   "execution_count": 38,
   "id": "8487e413",
   "metadata": {},
   "outputs": [
    {
     "name": "stdout",
     "output_type": "stream",
     "text": [
      "Executing command:\n",
      " ls\n",
      "tool-in-langchains.ipynb\n",
      "\n"
     ]
    },
    {
     "name": "stderr",
     "output_type": "stream",
     "text": [
      "/home/nf/Documents/projects-and-notes/LangChain-CampusX/.venv/lib/python3.13/site-packages/langchain_community/tools/shell/tool.py:33: UserWarning: The shell tool has no safeguards by default. Use at your own risk.\n",
      "  warnings.warn(\n"
     ]
    }
   ],
   "source": [
    "from langchain_community.tools import ShellTool\n",
    "\n",
    "shell_tool = ShellTool()\n",
    "result = shell_tool.invoke('ls')\n",
    "print(result)"
   ]
  },
  {
   "cell_type": "markdown",
   "id": "77de3fab",
   "metadata": {},
   "source": [
    "### Custom tools - Method 1"
   ]
  },
  {
   "cell_type": "code",
   "execution_count": 39,
   "id": "06a6f471",
   "metadata": {},
   "outputs": [],
   "source": [
    "from langchain_core.tools import tool"
   ]
  },
  {
   "cell_type": "code",
   "execution_count": 40,
   "id": "269856e7",
   "metadata": {},
   "outputs": [],
   "source": [
    "# Step-1 Create a function\n",
    "\n",
    "def multiply(a,b):\n",
    "    \"\"\"Multiply two numbers\"\"\"\n",
    "    return a*b"
   ]
  },
  {
   "cell_type": "code",
   "execution_count": 41,
   "id": "856e75e2",
   "metadata": {},
   "outputs": [],
   "source": [
    "# Step-2 Add type hints\n",
    "def multiply(a:int,b:int) -> int:\n",
    "    \"\"\"Multiply two numbers\"\"\"\n",
    "    return a*b"
   ]
  },
  {
   "cell_type": "code",
   "execution_count": 42,
   "id": "befd9284",
   "metadata": {},
   "outputs": [],
   "source": [
    "# Step-3 add a @tool decorator\n",
    "@tool\n",
    "def multiply(a:int,b:int) -> int:\n",
    "    \"\"\"Multiply two numbers\"\"\"\n",
    "    return a*b\n"
   ]
  },
  {
   "cell_type": "code",
   "execution_count": 43,
   "id": "1a4aad5b",
   "metadata": {},
   "outputs": [
    {
     "name": "stdout",
     "output_type": "stream",
     "text": [
      "50\n"
     ]
    }
   ],
   "source": [
    "result = multiply.invoke({\"a\":5, \"b\": 10})\n",
    "print(result)"
   ]
  },
  {
   "cell_type": "code",
   "execution_count": 44,
   "id": "9238bb91",
   "metadata": {},
   "outputs": [
    {
     "name": "stdout",
     "output_type": "stream",
     "text": [
      "multiply\n",
      "Multiply two numbers\n",
      "{'a': {'title': 'A', 'type': 'integer'}, 'b': {'title': 'B', 'type': 'integer'}}\n"
     ]
    }
   ],
   "source": [
    "print(multiply.name)\n",
    "print(multiply.description)\n",
    "print(multiply.args)"
   ]
  },
  {
   "cell_type": "code",
   "execution_count": 45,
   "id": "11135e01",
   "metadata": {},
   "outputs": [
    {
     "name": "stdout",
     "output_type": "stream",
     "text": [
      "{'description': 'Multiply two numbers', 'properties': {'a': {'title': 'A', 'type': 'integer'}, 'b': {'title': 'B', 'type': 'integer'}}, 'required': ['a', 'b'], 'title': 'multiply', 'type': 'object'}\n"
     ]
    }
   ],
   "source": [
    "print(multiply.args_schema.model_json_schema())"
   ]
  },
  {
   "cell_type": "markdown",
   "id": "9c6fb8d6",
   "metadata": {},
   "source": [
    "### Method 2"
   ]
  },
  {
   "cell_type": "code",
   "execution_count": 54,
   "id": "3643105b",
   "metadata": {},
   "outputs": [],
   "source": [
    "from langchain_core.tools import StructuredTool\n",
    "from pydantic import BaseModel, Field\n",
    "\n",
    "class MultiplyInput(BaseModel):\n",
    "    a: int = Field(required=True, description=\"The first number to add\")\n",
    "    b: int = Field(required=True, description=\"The second number to add\")\n",
    "        \n",
    "def multiply_func(a:int, b:int) -> int:\n",
    "    return a*b"
   ]
  },
  {
   "cell_type": "code",
   "execution_count": 55,
   "id": "bcb77560",
   "metadata": {},
   "outputs": [],
   "source": [
    "multiply_tool = StructuredTool.from_function(\n",
    "    func=multiply_func,\n",
    "    name=\"multiply\",\n",
    "    description=\"Multiply two numbers\",\n",
    "    args_schema=MultiplyInput\n",
    ")"
   ]
  },
  {
   "cell_type": "code",
   "execution_count": 56,
   "id": "021ce81a",
   "metadata": {},
   "outputs": [
    {
     "name": "stdout",
     "output_type": "stream",
     "text": [
      "600\n"
     ]
    }
   ],
   "source": [
    "result = multiply_tool.invoke({\"a\": 30,\"b\":20})\n",
    "print(result)"
   ]
  },
  {
   "cell_type": "code",
   "execution_count": 57,
   "id": "c3b358d0",
   "metadata": {},
   "outputs": [
    {
     "name": "stdout",
     "output_type": "stream",
     "text": [
      "multiply\n",
      "Multiply two numbers\n",
      "{'a': {'description': 'The first number to add', 'required': True, 'title': 'A', 'type': 'integer'}, 'b': {'description': 'The second number to add', 'required': True, 'title': 'B', 'type': 'integer'}}\n"
     ]
    }
   ],
   "source": [
    "print(multiply_tool.name)\n",
    "print(multiply_tool.description)\n",
    "print(multiply_tool.args)"
   ]
  },
  {
   "cell_type": "markdown",
   "id": "c8f0ef9e",
   "metadata": {},
   "source": [
    "\n",
    "### Method 3"
   ]
  },
  {
   "cell_type": "code",
   "execution_count": 67,
   "id": "8a83ac8e",
   "metadata": {},
   "outputs": [],
   "source": [
    "from langchain.tools import BaseTool\n",
    "from typing import Type"
   ]
  },
  {
   "cell_type": "code",
   "execution_count": 69,
   "id": "2a47580c",
   "metadata": {},
   "outputs": [],
   "source": [
    "# args schema using pydantic\n",
    "class MultiplyInput(BaseModel):\n",
    "    a : int = Field(required=True, description=\"The first number to add\") \n",
    "    b : int = Field(required=True, description=\"The second number to add\") "
   ]
  },
  {
   "cell_type": "code",
   "execution_count": 70,
   "id": "469dd5e2",
   "metadata": {},
   "outputs": [],
   "source": [
    "class MultiplyTool(BaseTool):\n",
    "    name: str = \"multiply\"\n",
    "    description : str = \"multiply two numbers\"\n",
    "    args_schema : Type[BaseModel] = MultiplyInput\n",
    "    \n",
    "    def _run(self, a: int, b: int) -> int:\n",
    "        return a*b"
   ]
  },
  {
   "cell_type": "code",
   "execution_count": 71,
   "id": "bc5df91f",
   "metadata": {},
   "outputs": [
    {
     "name": "stdout",
     "output_type": "stream",
     "text": [
      "30\n"
     ]
    }
   ],
   "source": [
    "multiply_tool = MultiplyTool()\n",
    "\n",
    "result = multiply_tool.invoke({\"a\":3,\"b\":10})\n",
    "print(result)"
   ]
  },
  {
   "cell_type": "markdown",
   "id": "3c2952ea",
   "metadata": {},
   "source": [
    "### Toolkit"
   ]
  },
  {
   "cell_type": "code",
   "execution_count": 75,
   "id": "309448ce",
   "metadata": {},
   "outputs": [],
   "source": [
    "from langchain.tools import tool\n",
    "\n",
    "# custom tools\n",
    "@tool\n",
    "def add(a:int, b:int) -> int:\n",
    "    \"\"\"Add two numbers\"\"\"\n",
    "    return a + b\n",
    "\n",
    "@tool\n",
    "def mul(a:int, b:int) -> int:\n",
    "    \"\"\"Multiply two numbers\"\"\"\n",
    "    return a * b"
   ]
  },
  {
   "cell_type": "code",
   "execution_count": 76,
   "id": "235cd857",
   "metadata": {},
   "outputs": [],
   "source": [
    "class MathToolKit:\n",
    "    def get_tools(self):\n",
    "        return [add, multiply]"
   ]
  },
  {
   "cell_type": "code",
   "execution_count": 77,
   "id": "84812421",
   "metadata": {},
   "outputs": [
    {
     "name": "stdout",
     "output_type": "stream",
     "text": [
      "Tool name:  add\n",
      "Tool description:  Add two numbers\n",
      "Tool name:  multiply\n",
      "Tool description:  Multiply two numbers\n"
     ]
    }
   ],
   "source": [
    "toolkit = MathToolKit()\n",
    "tools = toolkit.get_tools()\n",
    "\n",
    "for tool in tools:\n",
    "    print(\"Tool name: \", tool.name)\n",
    "    print(\"Tool description: \", tool.description)"
   ]
  }
 ],
 "metadata": {
  "kernelspec": {
   "display_name": ".venv",
   "language": "python",
   "name": "python3"
  },
  "language_info": {
   "codemirror_mode": {
    "name": "ipython",
    "version": 3
   },
   "file_extension": ".py",
   "mimetype": "text/x-python",
   "name": "python",
   "nbconvert_exporter": "python",
   "pygments_lexer": "ipython3",
   "version": "3.13.3"
  }
 },
 "nbformat": 4,
 "nbformat_minor": 5
}
