{
 "cells": [
  {
   "cell_type": "code",
   "execution_count": 1,
   "id": "7e575421-543c-48b9-a627-1f26db80e8e0",
   "metadata": {},
   "outputs": [
    {
     "data": {
      "text/plain": [
       "True"
      ]
     },
     "execution_count": 1,
     "metadata": {},
     "output_type": "execute_result"
    }
   ],
   "source": [
    "from langchain_google_genai import ChatGoogleGenerativeAI\n",
    "from langchain_core.tools import tool\n",
    "from langchain_core.messages import HumanMessage\n",
    "from dotenv import load_dotenv\n",
    "import os\n",
    "import requests\n",
    "load_dotenv()"
   ]
  },
  {
   "cell_type": "code",
   "execution_count": 2,
   "id": "ac6798a5-72c2-44ce-96b0-a926699d267d",
   "metadata": {},
   "outputs": [],
   "source": [
    "# Tool Creation\n",
    "from langchain_core.tools import InjectedToolArg\n",
    "from typing import Annotated\n",
    "\n",
    "@tool\n",
    "def get_conversion_rate(base_currency: str, target_currency: str) -> float:\n",
    "    \"\"\"\n",
    "    This function fetches the current conversion factor between base currency and target currency\n",
    "    \"\"\"\n",
    "    url = f\"https://v6.exchangerate-api.com/v6/{os.environ[\"EXCHANGE_RATE_API\"]}/pair/{base_currency.upper()}/{target_currency.upper()}\"\n",
    "    response = requests.get(url)\n",
    "    return response.json()[\"conversion_rate\"]\n",
    "\n",
    "@tool\n",
    "def convert(base_currency_value: int, conversion_rate: Annotated[float, InjectedToolArg]) -> float:\n",
    "    \"\"\"\n",
    "    Given a currency conversion rate this function will calculates target currency value from a give base currency value\n",
    "    \"\"\"\n",
    "    return base_currency_value * conversion_rate"
   ]
  },
  {
   "cell_type": "code",
   "execution_count": 3,
   "id": "44910c5d-5a77-4dbc-a651-58fe96ef827e",
   "metadata": {
    "scrolled": true
   },
   "outputs": [
    {
     "data": {
      "text/plain": [
       "85.7501"
      ]
     },
     "execution_count": 3,
     "metadata": {},
     "output_type": "execute_result"
    }
   ],
   "source": [
    "get_conversion_rate.invoke({\"base_currency\": \"usd\", \"target_currency\": \"inr\"})"
   ]
  },
  {
   "cell_type": "code",
   "execution_count": 4,
   "id": "3ee27714-9e0b-4f18-abef-6a11b39b6bf9",
   "metadata": {},
   "outputs": [
    {
     "data": {
      "text/plain": [
       "4287.505"
      ]
     },
     "execution_count": 4,
     "metadata": {},
     "output_type": "execute_result"
    }
   ],
   "source": [
    "convert.invoke({\"base_currency_value\": 50, \"conversion_rate\": 85.7501})"
   ]
  },
  {
   "cell_type": "code",
   "execution_count": 5,
   "id": "d6e1e738-7d4b-41af-93ea-1c2ce0029b6f",
   "metadata": {},
   "outputs": [],
   "source": [
    "# Binding tools with LLM\n",
    "llm = ChatGoogleGenerativeAI(\n",
    "    model=\"gemini-2.5-flash-lite-preview-06-17\",\n",
    "    api_key=os.environ[\"GEMINI_API_KEY\"]\n",
    ")\n",
    "llm_with_tools = llm.bind_tools([get_conversion_rate, convert])"
   ]
  },
  {
   "cell_type": "code",
   "execution_count": 16,
   "id": "5528362a-45ca-4bf4-8d6f-215aa63726de",
   "metadata": {},
   "outputs": [],
   "source": [
    "# Tool calling\n",
    "message = [HumanMessage(\"What is the conversion rate between usd and inr, and based on that can you convert 1 million usd to inr?\")]"
   ]
  },
  {
   "cell_type": "code",
   "execution_count": 17,
   "id": "824bd317-2328-464d-8c01-c9c56e1a5b64",
   "metadata": {},
   "outputs": [
    {
     "data": {
      "text/plain": [
       "[HumanMessage(content='What is the conversion rate between usd and inr, and based on that can you convert 1 million usd to inr?', additional_kwargs={}, response_metadata={})]"
      ]
     },
     "execution_count": 17,
     "metadata": {},
     "output_type": "execute_result"
    }
   ],
   "source": [
    "message"
   ]
  },
  {
   "cell_type": "code",
   "execution_count": 18,
   "id": "e08ec5e7-65d7-40c1-9951-a12ebe1274d8",
   "metadata": {},
   "outputs": [],
   "source": [
    "ai_message = llm_with_tools.invoke(message)"
   ]
  },
  {
   "cell_type": "code",
   "execution_count": 19,
   "id": "c9677117-66e1-4a16-a857-a6e12ec77588",
   "metadata": {},
   "outputs": [],
   "source": [
    "message.append(ai_message)"
   ]
  },
  {
   "cell_type": "code",
   "execution_count": 20,
   "id": "2fce266a-c709-476d-9051-38b8ccd6a8af",
   "metadata": {
    "scrolled": true
   },
   "outputs": [
    {
     "data": {
      "text/plain": [
       "[{'name': 'get_conversion_rate',\n",
       "  'args': {'target_currency': 'INR', 'base_currency': 'USD'},\n",
       "  'id': '21464039-bdb2-4ba3-8b23-bc0892ea2d3f',\n",
       "  'type': 'tool_call'},\n",
       " {'name': 'convert',\n",
       "  'args': {'base_currency_value': 1000000.0},\n",
       "  'id': '88a39bae-88ca-4a42-9d54-08bb77d4fb09',\n",
       "  'type': 'tool_call'}]"
      ]
     },
     "execution_count": 20,
     "metadata": {},
     "output_type": "execute_result"
    }
   ],
   "source": [
    "ai_message.tool_calls"
   ]
  },
  {
   "cell_type": "code",
   "execution_count": 21,
   "id": "29079361-a4c8-4713-bb81-7756449a1489",
   "metadata": {},
   "outputs": [],
   "source": [
    "for tool_call in ai_message.tool_calls:\n",
    "    # execute the 1st tool and get the value of conversion rate\n",
    "    if tool_call[\"name\"] == 'get_conversion_rate':\n",
    "        tool_message1 = get_conversion_rate.invoke(tool_call)\n",
    "        # fetch conversion rate\n",
    "        conversion_rate = tool_message1.content\n",
    "        # append this tool to messages list\n",
    "        message.append(tool_message1)\n",
    "    # execute the 2nd tool using conversion rate from the tool 1st\n",
    "    if tool_call[\"name\"] == \"convert\":\n",
    "        # fetech the current argument\n",
    "        tool_call[\"args\"][\"conversion_rate\"] = conversion_rate\n",
    "        tool_message2 = convert.invoke(tool_call)\n",
    "        message.append(tool_message2)"
   ]
  },
  {
   "cell_type": "code",
   "execution_count": 22,
   "id": "5a2eea9e-318f-4922-a561-95a1eae41177",
   "metadata": {},
   "outputs": [
    {
     "data": {
      "text/plain": [
       "[HumanMessage(content='What is the conversion rate between usd and inr, and based on that can you convert 1 million usd to inr?', additional_kwargs={}, response_metadata={}),\n",
       " AIMessage(content='', additional_kwargs={'function_call': {'name': 'convert', 'arguments': '{\"base_currency_value\": 1000000.0}'}}, response_metadata={'prompt_feedback': {'block_reason': 0, 'safety_ratings': []}, 'finish_reason': 'STOP', 'safety_ratings': []}, id='run--5c0cd2ab-ba33-49b8-9da7-758f36e1fd1f-0', tool_calls=[{'name': 'get_conversion_rate', 'args': {'target_currency': 'INR', 'base_currency': 'USD'}, 'id': '21464039-bdb2-4ba3-8b23-bc0892ea2d3f', 'type': 'tool_call'}, {'name': 'convert', 'args': {'base_currency_value': 1000000.0, 'conversion_rate': '85.7501'}, 'id': '88a39bae-88ca-4a42-9d54-08bb77d4fb09', 'type': 'tool_call'}], usage_metadata={'input_tokens': 149, 'output_tokens': 49, 'total_tokens': 198, 'input_token_details': {'cache_read': 0}}),\n",
       " ToolMessage(content='85.7501', name='get_conversion_rate', tool_call_id='21464039-bdb2-4ba3-8b23-bc0892ea2d3f'),\n",
       " ToolMessage(content='85750100.0', name='convert', tool_call_id='88a39bae-88ca-4a42-9d54-08bb77d4fb09')]"
      ]
     },
     "execution_count": 22,
     "metadata": {},
     "output_type": "execute_result"
    }
   ],
   "source": [
    "message"
   ]
  },
  {
   "cell_type": "code",
   "execution_count": 23,
   "id": "8d8bb221-f334-421e-8170-3befb667e97e",
   "metadata": {},
   "outputs": [
    {
     "data": {
      "text/plain": [
       "'The conversion rate from USD to INR is 85.7501. 1 million USD is equal to 85,750,100 INR.'"
      ]
     },
     "execution_count": 23,
     "metadata": {},
     "output_type": "execute_result"
    }
   ],
   "source": [
    "llm_with_tools.invoke(message).content"
   ]
  },
  {
   "cell_type": "code",
   "execution_count": null,
   "id": "2597d2d8-2f22-4d14-b0cd-ac734c757c67",
   "metadata": {},
   "outputs": [],
   "source": []
  }
 ],
 "metadata": {
  "kernelspec": {
   "display_name": "Python 3 (ipykernel)",
   "language": "python",
   "name": "python3"
  },
  "language_info": {
   "codemirror_mode": {
    "name": "ipython",
    "version": 3
   },
   "file_extension": ".py",
   "mimetype": "text/x-python",
   "name": "python",
   "nbconvert_exporter": "python",
   "pygments_lexer": "ipython3",
   "version": "3.13.3"
  }
 },
 "nbformat": 4,
 "nbformat_minor": 5
}
