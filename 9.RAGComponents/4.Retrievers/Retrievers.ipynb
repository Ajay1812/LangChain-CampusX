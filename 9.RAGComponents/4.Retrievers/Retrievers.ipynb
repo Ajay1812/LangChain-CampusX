{
 "cells": [
  {
   "cell_type": "code",
   "execution_count": 1,
   "id": "6b0b6cf8",
   "metadata": {},
   "outputs": [
    {
     "name": "stdout",
     "output_type": "stream",
     "text": [
      "Collecting wikipedia\n",
      "  Downloading wikipedia-1.4.0.tar.gz (27 kB)\n",
      "  Installing build dependencies ... \u001b[?25ldone\n",
      "\u001b[?25h  Getting requirements to build wheel ... \u001b[?25ldone\n",
      "\u001b[?25h  Preparing metadata (pyproject.toml) ... \u001b[?25ldone\n",
      "\u001b[?25hRequirement already satisfied: beautifulsoup4 in /Users/ajay/Documents/Personal/Courses/LangChain-CampusX/.venv/lib/python3.12/site-packages (from wikipedia) (4.13.4)\n",
      "Requirement already satisfied: requests<3.0.0,>=2.0.0 in /Users/ajay/Documents/Personal/Courses/LangChain-CampusX/.venv/lib/python3.12/site-packages (from wikipedia) (2.32.4)\n",
      "Requirement already satisfied: charset_normalizer<4,>=2 in /Users/ajay/Documents/Personal/Courses/LangChain-CampusX/.venv/lib/python3.12/site-packages (from requests<3.0.0,>=2.0.0->wikipedia) (3.4.2)\n",
      "Requirement already satisfied: idna<4,>=2.5 in /Users/ajay/Documents/Personal/Courses/LangChain-CampusX/.venv/lib/python3.12/site-packages (from requests<3.0.0,>=2.0.0->wikipedia) (3.10)\n",
      "Requirement already satisfied: urllib3<3,>=1.21.1 in /Users/ajay/Documents/Personal/Courses/LangChain-CampusX/.venv/lib/python3.12/site-packages (from requests<3.0.0,>=2.0.0->wikipedia) (2.4.0)\n",
      "Requirement already satisfied: certifi>=2017.4.17 in /Users/ajay/Documents/Personal/Courses/LangChain-CampusX/.venv/lib/python3.12/site-packages (from requests<3.0.0,>=2.0.0->wikipedia) (2025.4.26)\n",
      "Requirement already satisfied: soupsieve>1.2 in /Users/ajay/Documents/Personal/Courses/LangChain-CampusX/.venv/lib/python3.12/site-packages (from beautifulsoup4->wikipedia) (2.7)\n",
      "Requirement already satisfied: typing-extensions>=4.0.0 in /Users/ajay/Documents/Personal/Courses/LangChain-CampusX/.venv/lib/python3.12/site-packages (from beautifulsoup4->wikipedia) (4.14.0)\n",
      "Building wheels for collected packages: wikipedia\n",
      "  Building wheel for wikipedia (pyproject.toml) ... \u001b[?25ldone\n",
      "\u001b[?25h  Created wheel for wikipedia: filename=wikipedia-1.4.0-py3-none-any.whl size=11757 sha256=57c3cd8278c0a739a1f5a9d09e413e58e50804a066a75663858a33137c6e7a81\n",
      "  Stored in directory: /Users/ajay/Library/Caches/pip/wheels/63/47/7c/a9688349aa74d228ce0a9023229c6c0ac52ca2a40fe87679b8\n",
      "Successfully built wikipedia\n",
      "Installing collected packages: wikipedia\n",
      "Successfully installed wikipedia-1.4.0\n",
      "\n",
      "\u001b[1m[\u001b[0m\u001b[34;49mnotice\u001b[0m\u001b[1;39;49m]\u001b[0m\u001b[39;49m A new release of pip is available: \u001b[0m\u001b[31;49m24.0\u001b[0m\u001b[39;49m -> \u001b[0m\u001b[32;49m25.1.1\u001b[0m\n",
      "\u001b[1m[\u001b[0m\u001b[34;49mnotice\u001b[0m\u001b[1;39;49m]\u001b[0m\u001b[39;49m To update, run: \u001b[0m\u001b[32;49mpip install --upgrade pip\u001b[0m\n"
     ]
    }
   ],
   "source": [
    "!pip install wikipedia"
   ]
  },
  {
   "cell_type": "markdown",
   "id": "0d67aa0d",
   "metadata": {},
   "source": [
    "### Wikipedia Retrievers"
   ]
  },
  {
   "cell_type": "code",
   "execution_count": 1,
   "id": "a22afb10",
   "metadata": {},
   "outputs": [],
   "source": [
    "from langchain_community.retrievers import WikipediaRetriever"
   ]
  },
  {
   "cell_type": "code",
   "execution_count": 2,
   "id": "80e7ed9d",
   "metadata": {},
   "outputs": [],
   "source": [
    "retriever = WikipediaRetriever(\n",
    "    top_k_results=2, lang=\"en\"\n",
    ")"
   ]
  },
  {
   "cell_type": "code",
   "execution_count": 7,
   "id": "e271b6ee",
   "metadata": {},
   "outputs": [],
   "source": [
    "query = \"What is the history behind the Spider-Man as a superhero?\""
   ]
  },
  {
   "cell_type": "code",
   "execution_count": 8,
   "id": "e1ce0b1d",
   "metadata": {},
   "outputs": [],
   "source": [
    "docs = retriever.invoke(query)"
   ]
  },
  {
   "cell_type": "code",
   "execution_count": 12,
   "id": "486e8101",
   "metadata": {},
   "outputs": [
    {
     "data": {
      "text/plain": [
       "{'title': 'Spider-Man in film',\n",
       " 'summary': \"Spider-Man has appeared in film since the 1977 made-for-television movie broadcast on CBS. The motion picture rights to Spider-Man belonged to Marvel Entertainment until 1999, when Sony Pictures bought them for $7 million and produced Spider-Man's first theatrical film. He has been Marvel's most successful character in the American film industry ever since.\\nAfter selling the Spider-Man motion picture rights to Sony, Marvel eventually founded its own film studio, Marvel Studios, developing the Marvel Cinematic Universe (MCU) shared universe based only on the characters they still held the rights to. This would change in 2016, when Sony and the Walt Disney Company entered an agreement to introduce Spider-Man to the MCU. Despite some disagreements pertaining to finances and merchandising between the two parties, the agreement proved to be a successful endeavor for both companies. The crossover films Avengers: Infinity War and Avengers: Endgame included Spider-Man and crossed the two-billion-dollar mark at the worldwide box office for the first time. Meanwhile, Sony, in association with Marvel, launched its own shared universe known as Sony's Spider-Man Universe (SSU), with Sony entering a three-billion-dollar streaming agreement with Netflix and Disney.\\n\\n\",\n",
       " 'source': 'https://en.wikipedia.org/wiki/Spider-Man_in_film'}"
      ]
     },
     "execution_count": 12,
     "metadata": {},
     "output_type": "execute_result"
    }
   ],
   "source": [
    "docs[0].metadata"
   ]
  },
  {
   "cell_type": "code",
   "execution_count": 11,
   "id": "1ee22174",
   "metadata": {},
   "outputs": [
    {
     "name": "stdout",
     "output_type": "stream",
     "text": [
      "\n",
      "--- Result 1 ---\n",
      "Content: \n",
      " Spider-Man has appeared in film since the 1977 made-for-television movie broadcast on CBS. The motion picture rights to Spider-Man belonged to Marvel Entertainment until 1999, when Sony Pictures bought them for $7 million and produced Spider-Man's first theatrical film. He has been Marvel's most successful character in the American film industry ever since.\n",
      "After selling the Spider-Man motion picture rights to Sony, Marvel eventually founded its own film studio, Marvel Studios, developing the Marvel Cinematic Universe (MCU) shared universe based only on the characters they still held the rights to. This would change in 2016, when Sony and the Walt Disney Company entered an agreement to introduce Spider-Man to the MCU. Despite some disagreements pertaining to finances and merchandising between the two parties, the agreement proved to be a successful endeavor for both companies. The crossover films Avengers: Infinity War and Avengers: Endgame included Spider-Man and crossed the two-billion-dollar mark at the worldwide box office for the first time. Meanwhile, Sony, in association with Marvel, launched its own shared universe known as Sony's Spider-Man Universe (SSU), with Sony entering a three-billion-dollar streaming agreement with Netflix and Disney.\n",
      "\n",
      "\n",
      "== History ==\n",
      "The fictional character Spider-Man, a comic book superhero created by Stan Lee and Steve Ditko and featured in Marvel Comics publications, has appeared as a main character in numerous theatrical and made-for-television films.\n",
      "The first four films were linked to television series and screened in theaters only in certain countries. Nicholas Hammond starred as Peter Parker / Spider-Man in the 1977 made-for-television film Spider-Man that spawned a broadcast series, and would appear as the character in two sequels edited from those episodes. In 1978, the Toei Company created a theatrical spin-off from their Spider-Man television series, with Shinji Todō reprising his role as Takuya Yamashiro / Spider-Man. None of these films had a theatrical release in the United States.\n",
      "By 1999, Sony Pictures Entertainment had acquired the motion picture rights to the character for cinema and television, creating two Spider-Man animated television series, and two film series comprising their own continuities: Sam Raimi's Spider-Man trilogy (2002–2007) starring Tobey Maguire as the character, and Marc Webb's The Amazing Spider-Man duology (2012–2014) starring Andrew Garfield in the role.\n",
      "In February 2015, Disney, Marvel Studios, and Sony made a deal to share the Spider-Man film rights, leading to a new iteration of Spider-Man being introduced and integrated into the Marvel Cinematic Universe (MCU). The deal allowed Sony Pictures to continue to own, finance, distribute, and have final creative control of the solo Spider-Man films, with Walt Disney Studios Motion Pictures distributing the films with his other appearances in a supporting capacity. Tom Holland portrays this version of Spider-Man, and has appeared in six films to date, from Captain America: Civil War (2016) to Spider-Man: No Way Home (2021). In September 2019, following a brief stand-off resulting in the termination of the old agreement, Disney and Sony relented to fan outcry and reached a new agreement for Holland's version to return for future films; the first film to be produced afterwards was No Way Home, where Holland appears alongside Maguire and Garfield, who reprise their roles in the film as supporting characters. A fourth MCU Spider-Man film, Spider-Man: Brand New Day, is in development at Sony and Marvel Studios for a July 2026 release.\n",
      "Plans for an animated Spider-Man film were officially announced by Sony in April 2015, which eventually became Spider-Man: Into the Spider-Verse (2018) from Sony Pictures Animation. Shameik Moore voices the main character Miles Morales / Spider-Man in the film, with various other versions of Peter Parker and alternate versions of Spider-Man from the multiverse also appearing. A se ...\n",
      "MetaData: \n",
      " {'title': 'Spider-Man in film', 'summary': \"Spider-Man has appeared in film since the 1977 made-for-television movie broadcast on CBS. The motion picture rights to Spider-Man belonged to Marvel Entertainment until 1999, when Sony Pictures bought them for $7 million and produced Spider-Man's first theatrical film. He has been Marvel's most successful character in the American film industry ever since.\\nAfter selling the Spider-Man motion picture rights to Sony, Marvel eventually founded its own film studio, Marvel Studios, developing the Marvel Cinematic Universe (MCU) shared universe based only on the characters they still held the rights to. This would change in 2016, when Sony and the Walt Disney Company entered an agreement to introduce Spider-Man to the MCU. Despite some disagreements pertaining to finances and merchandising between the two parties, the agreement proved to be a successful endeavor for both companies. The crossover films Avengers: Infinity War and Avengers: Endgame included Spider-Man and crossed the two-billion-dollar mark at the worldwide box office for the first time. Meanwhile, Sony, in association with Marvel, launched its own shared universe known as Sony's Spider-Man Universe (SSU), with Sony entering a three-billion-dollar streaming agreement with Netflix and Disney.\\n\\n\", 'source': 'https://en.wikipedia.org/wiki/Spider-Man_in_film'} ...\n",
      "\n",
      "--- Result 2 ---\n",
      "Content: \n",
      " Spider-Man 3 is a 2007 American superhero film based on the Marvel Comics character Spider-Man. Produced by Columbia Pictures, Marvel Entertainment, and Laura Ziskin Productions, and distributed by Sony Pictures Releasing, it was directed by Sam Raimi from a screenplay he co-wrote with his brother Ivan and Alvin Sargent. It is the final installment in Raimi's Spider-Man trilogy, and the sequel to Spider-Man (2002) and Spider-Man 2 (2004). The film stars Tobey Maguire as Peter Parker / Spider-Man, alongside Kirsten Dunst, James Franco, Thomas Haden Church, Topher Grace, Bryce Dallas Howard, James Cromwell, Rosemary Harris, and J. K. Simmons. It also marks the final acting appearance of Cliff Robertson before his retirement from acting in the same year and his subsequent death in 2011. Set a year after the events of Spider-Man 2, the film follows Peter Parker as he prepares for his future with Mary Jane Watson, while facing Uncle Ben's true killer, Flint Marko, who becomes the Sandman after a freak accident, and Harry Osborn, his former best friend, who is now aware of Peter's identity and seeks to avenge his father; his job at the Daily Bugle is threatened by the presence of a rival photographer named Eddie Brock. Peter also faces his greatest challenge when he bonds with an extraterrestrial symbiote that increases his abilities but amplifies his anger and other negative traits.\n",
      "Development of Spider-Man 3 began immediately after the successful release of Spider-Man 2 for a 2007 release. During preproduction, Raimi wanted two villains, Harry Osborn and Sandman. At the request of producer Avi Arad, he added Venom to the list, and the producers also requested the addition of Gwen Stacy. Principal photography for the film began in January 2006 and took place in Los Angeles and Cleveland before moving to New York City from May until July 2006. Additional pick-up shots were made after August and the film wrapped in October 2006. During post-production, Sony Pictures Imageworks created over 900 visual effects shots. Composer Danny Elfman, who had scored the previous installments, decided not to return due to creative differences and conflicts with Raimi during production of the previous film, so Christopher Young composed the score in Elfman's absence. With an estimated production budget of $258–350 million, the film was the most expensive film ever made at the time of its release.\n",
      "Spider-Man 3 premiered on April 16, 2007, in Tokyo, and was released in the United States in both conventional and IMAX theaters on May 4. The film grossed $891.6 million worldwide, making it the highest-grossing film of the trilogy, the third-highest-grossing film of 2007 and the tenth-highest-grossing film of all time at the time of its release. It was also the highest-grossing Spider-Man film until it was surpassed by Spider-Man: Far From Home in 2019, and Raimi's highest-grossing film until it was surpassed by Doctor Strange in the Multiverse of Madness (2022). Unlike the previous installments, Spider-Man 3 received mixed reviews from critics.\n",
      "A fourth installment, titled Spider-Man 4, was set to be released on May 6, 2011, followed by a Venom spin-off film, along with a fifth and sixth installment, titled Spider-Man 5 and Spider-Man 6 respectively, but all were canceled. The Spider-Man film series was rebooted twice; first with The Amazing Spider-Man (2012) by Marc Webb and starring Andrew Garfield; and later a new film series set within the Marvel Cinematic Universe (MCU) directed by Jon Watts and starring Tom Holland, beginning with Spider-Man: Homecoming (2017). Spider-Man: No Way Home (2021) explored the concept of the multiverse to connect the previous films and characters to the MCU with Maguire and Church reprising their roles in the film. A Venom film, sequel and second sequel featuring another version of the Eddie Brock character were eventually produced and released in 2018, 2021 and 2024, respectively.\n",
      "\n",
      "\n",
      "== Plot ==\n",
      "One year after Otto Octav ...\n",
      "MetaData: \n",
      " {'title': 'Spider-Man 3', 'summary': \"Spider-Man 3 is a 2007 American superhero film based on the Marvel Comics character Spider-Man. Produced by Columbia Pictures, Marvel Entertainment, and Laura Ziskin Productions, and distributed by Sony Pictures Releasing, it was directed by Sam Raimi from a screenplay he co-wrote with his brother Ivan and Alvin Sargent. It is the final installment in Raimi's Spider-Man trilogy, and the sequel to Spider-Man (2002) and Spider-Man 2 (2004). The film stars Tobey Maguire as Peter Parker / Spider-Man, alongside Kirsten Dunst, James Franco, Thomas Haden Church, Topher Grace, Bryce Dallas Howard, James Cromwell, Rosemary Harris, and J. K. Simmons. It also marks the final acting appearance of Cliff Robertson before his retirement from acting in the same year and his subsequent death in 2011. Set a year after the events of Spider-Man 2, the film follows Peter Parker as he prepares for his future with Mary Jane Watson, while facing Uncle Ben's true killer, Flint Marko, who becomes the Sandman after a freak accident, and Harry Osborn, his former best friend, who is now aware of Peter's identity and seeks to avenge his father; his job at the Daily Bugle is threatened by the presence of a rival photographer named Eddie Brock. Peter also faces his greatest challenge when he bonds with an extraterrestrial symbiote that increases his abilities but amplifies his anger and other negative traits.\\nDevelopment of Spider-Man 3 began immediately after the successful release of Spider-Man 2 for a 2007 release. During preproduction, Raimi wanted two villains, Harry Osborn and Sandman. At the request of producer Avi Arad, he added Venom to the list, and the producers also requested the addition of Gwen Stacy. Principal photography for the film began in January 2006 and took place in Los Angeles and Cleveland before moving to New York City from May until July 2006. Additional pick-up shots were made after August and the film wrapped in October 2006. During post-production, Sony Pictures Imageworks created over 900 visual effects shots. Composer Danny Elfman, who had scored the previous installments, decided not to return due to creative differences and conflicts with Raimi during production of the previous film, so Christopher Young composed the score in Elfman's absence. With an estimated production budget of $258–350 million, the film was the most expensive film ever made at the time of its release.\\nSpider-Man 3 premiered on April 16, 2007, in Tokyo, and was released in the United States in both conventional and IMAX theaters on May 4. The film grossed $891.6 million worldwide, making it the highest-grossing film of the trilogy, the third-highest-grossing film of 2007 and the tenth-highest-grossing film of all time at the time of its release. It was also the highest-grossing Spider-Man film until it was surpassed by Spider-Man: Far From Home in 2019, and Raimi's highest-grossing film until it was surpassed by Doctor Strange in the Multiverse of Madness (2022). Unlike the previous installments, Spider-Man 3 received mixed reviews from critics.\\nA fourth installment, titled Spider-Man 4, was set to be released on May 6, 2011, followed by a Venom spin-off film, along with a fifth and sixth installment, titled Spider-Man 5 and Spider-Man 6 respectively, but all were canceled. The Spider-Man film series was rebooted twice; first with The Amazing Spider-Man (2012) by Marc Webb and starring Andrew Garfield; and later a new film series set within the Marvel Cinematic Universe (MCU) directed by Jon Watts and starring Tom Holland, beginning with Spider-Man: Homecoming (2017). Spider-Man: No Way Home (2021) explored the concept of the multiverse to connect the previous films and characters to the MCU with Maguire and Church reprising their roles in the film. A Venom film, sequel and second sequel featuring another version of the Eddie Brock character were eventually produced and released in 2018, 2021 and 2024, respectively.\", 'source': 'https://en.wikipedia.org/wiki/Spider-Man_3'} ...\n"
     ]
    }
   ],
   "source": [
    "for i,doc in enumerate(docs):\n",
    "    print(f\"\\n--- Result {i+1} ---\")\n",
    "    print(f\"Content: \\n {doc.page_content} ...\")\n",
    "    print(f\"MetaData: \\n {doc.metadata} ...\")"
   ]
  },
  {
   "cell_type": "markdown",
   "id": "645d6974",
   "metadata": {},
   "source": [
    "### VectorStore Retriever\n"
   ]
  },
  {
   "cell_type": "code",
   "execution_count": 13,
   "id": "e659d9c8",
   "metadata": {},
   "outputs": [],
   "source": [
    "from langchain_community.vectorstores import Chroma\n",
    "from langchain_huggingface.embeddings import HuggingFaceEmbeddings\n",
    "from langchain_core.documents import Document"
   ]
  },
  {
   "cell_type": "code",
   "execution_count": 14,
   "id": "66208d7f",
   "metadata": {},
   "outputs": [],
   "source": [
    "# Step 1: Your source documents\n",
    "documents = [\n",
    "    Document(page_content=\"LangChain helps developers build LLM applications easily.\"),\n",
    "    Document(page_content=\"Chroma is a vector database optimized for LLM-based search.\"),\n",
    "    Document(page_content=\"Embeddings convert text into high-dimensional vectors.\"),\n",
    "    Document(page_content=\"OpenAI provides powerful embedding models.\"),\n",
    "]"
   ]
  },
  {
   "cell_type": "code",
   "execution_count": 15,
   "id": "e111301a",
   "metadata": {},
   "outputs": [
    {
     "name": "stderr",
     "output_type": "stream",
     "text": [
      "/Users/ajay/Documents/Personal/Courses/LangChain-CampusX/.venv/lib/python3.12/site-packages/tqdm/auto.py:21: TqdmWarning: IProgress not found. Please update jupyter and ipywidgets. See https://ipywidgets.readthedocs.io/en/stable/user_install.html\n",
      "  from .autonotebook import tqdm as notebook_tqdm\n"
     ]
    }
   ],
   "source": [
    "# Step 2: Initialize your embedding model\n",
    "embedding_model = HuggingFaceEmbeddings(\n",
    "    model_name=\"sentence-transformers/all-MiniLM-L6-v2\"\n",
    ")\n",
    "# Step 3: Create chroma vector store in memory\n",
    "vector_store = Chroma.from_documents(\n",
    "    documents=documents,\n",
    "    embedding=embedding_model,\n",
    "    collection_name=\"retriver_collection\"\n",
    "    \n",
    ")"
   ]
  },
  {
   "cell_type": "code",
   "execution_count": 16,
   "id": "83557eca",
   "metadata": {},
   "outputs": [],
   "source": [
    "# Step 4: Convert vectorstore into a retriever\n",
    "retriever=vector_store.as_retriever(search_kwargs={\"k\":2})"
   ]
  },
  {
   "cell_type": "code",
   "execution_count": 17,
   "id": "f00c4435",
   "metadata": {},
   "outputs": [],
   "source": [
    "query = \"What is Chroma used for?\"\n",
    "results = retriever.invoke(query)"
   ]
  },
  {
   "cell_type": "code",
   "execution_count": 18,
   "id": "b0b9587b",
   "metadata": {},
   "outputs": [
    {
     "data": {
      "text/plain": [
       "[Document(metadata={}, page_content='Chroma is a vector database optimized for LLM-based search.'),\n",
       " Document(metadata={}, page_content='LangChain helps developers build LLM applications easily.')]"
      ]
     },
     "execution_count": 18,
     "metadata": {},
     "output_type": "execute_result"
    }
   ],
   "source": [
    "results"
   ]
  },
  {
   "cell_type": "code",
   "execution_count": 20,
   "id": "ac8f7d85",
   "metadata": {},
   "outputs": [
    {
     "name": "stdout",
     "output_type": "stream",
     "text": [
      "\n",
      "--- Result 1 ---\n",
      "Content: Chroma is a vector database optimized for LLM-based search.\n",
      "\n",
      "--- Result 2 ---\n",
      "Content: LangChain helps developers build LLM applications easily.\n"
     ]
    }
   ],
   "source": [
    "for i,doc in enumerate(results):\n",
    "    print(f\"\\n--- Result {i+1} ---\")\n",
    "    print(f\"Content: {doc.page_content}\")"
   ]
  },
  {
   "cell_type": "markdown",
   "id": "d462dfbb",
   "metadata": {},
   "source": [
    "### MMR\n"
   ]
  },
  {
   "cell_type": "code",
   "execution_count": 21,
   "id": "0c0341aa",
   "metadata": {},
   "outputs": [],
   "source": [
    "# Sample documents\n",
    "docs = [\n",
    "    Document(page_content=\"LangChain makes it easy to work with LLMs.\"),\n",
    "    Document(page_content=\"LangChain is used to build LLM based applications.\"),\n",
    "    Document(page_content=\"Chroma is used to store and search document embeddings.\"),\n",
    "    Document(page_content=\"Embeddings are vector representations of text.\"),\n",
    "    Document(page_content=\"MMR helps you get diverse results when doing similarity search.\"),\n",
    "    Document(page_content=\"LangChain supports Chroma, FAISS, Pinecone, and more.\"),\n",
    "]"
   ]
  },
  {
   "cell_type": "code",
   "execution_count": 22,
   "id": "4e9a0c89",
   "metadata": {},
   "outputs": [],
   "source": [
    "from langchain.vectorstores import FAISS\n",
    "\n",
    "# Step 1: Initialize embedding model\n",
    "embedding_model = HuggingFaceEmbeddings(\n",
    "    model_name=\"sentence-transformers/all-MiniLM-L6-v2\"\n",
    ")\n",
    "# Step 2: Create the FAISS vector store from documents\n",
    "vector_store = FAISS.from_documents(\n",
    "    documents=docs,\n",
    "    embedding=embedding_model\n",
    ")"
   ]
  },
  {
   "cell_type": "code",
   "execution_count": null,
   "id": "59a5dc40",
   "metadata": {},
   "outputs": [],
   "source": [
    "# Enable MMR Retriever\n",
    "retriever = vector_store.as_retriever(\n",
    "    search_type=\"mmr\", #This Enables MMR \n",
    "    search_kwargs={\"k\": 3, \"lambda_mult\": 0.5} # k = top results, lambda_mult = relevance-diversity balance (range 0-1)  \n",
    ")"
   ]
  },
  {
   "cell_type": "code",
   "execution_count": 24,
   "id": "fc644e51",
   "metadata": {},
   "outputs": [],
   "source": [
    "query = \"what is Langchain?\"\n",
    "results = retriever.invoke(query)"
   ]
  },
  {
   "cell_type": "code",
   "execution_count": 27,
   "id": "61242e33",
   "metadata": {},
   "outputs": [
    {
     "name": "stdout",
     "output_type": "stream",
     "text": [
      "\n",
      " Result: 1 \n",
      "\n",
      " Content: LangChain supports Chroma, FAISS, Pinecone, and more.\n",
      "\n",
      " Result: 2 \n",
      "\n",
      " Content: LangChain is used to build LLM based applications.\n",
      "\n",
      " Result: 3 \n",
      "\n",
      " Content: Embeddings are vector representations of text.\n"
     ]
    }
   ],
   "source": [
    "for i, doc in enumerate(results):\n",
    "    print(f\"\\n Result: {i+1} \")\n",
    "    print(f\"\\n Content: {doc.page_content}\")"
   ]
  },
  {
   "cell_type": "markdown",
   "id": "a51334c4",
   "metadata": {},
   "source": [
    "### Multi-Query Retriever"
   ]
  },
  {
   "cell_type": "code",
   "execution_count": 54,
   "id": "43ec5480",
   "metadata": {},
   "outputs": [
    {
     "data": {
      "text/plain": [
       "True"
      ]
     },
     "execution_count": 54,
     "metadata": {},
     "output_type": "execute_result"
    }
   ],
   "source": [
    "from langchain_community.vectorstores import FAISS\n",
    "from langchain_huggingface import HuggingFaceEmbeddings\n",
    "from langchain_core.documents import Document\n",
    "from langchain.retrievers.multi_query import MultiQueryRetriever\n",
    "from langchain_google_genai import ChatGoogleGenerativeAI\n",
    "from dotenv import load_dotenv\n",
    "import os\n",
    "load_dotenv()"
   ]
  },
  {
   "cell_type": "code",
   "execution_count": 55,
   "id": "289d7981",
   "metadata": {},
   "outputs": [],
   "source": [
    "# Relevant health & wellness documents\n",
    "all_docs = [\n",
    "    Document(page_content=\"Regular walking boosts heart health and can reduce symptoms of depression.\", metadata={\"source\": \"H1\"}),\n",
    "    Document(page_content=\"Consuming leafy greens and fruits helps detox the body and improve longevity.\", metadata={\"source\": \"H2\"}),\n",
    "    Document(page_content=\"Deep sleep is crucial for cellular repair and emotional regulation.\", metadata={\"source\": \"H3\"}),\n",
    "    Document(page_content=\"Mindfulness and controlled breathing lower cortisol and improve mental clarity.\", metadata={\"source\": \"H4\"}),\n",
    "    Document(page_content=\"Drinking sufficient water throughout the day helps maintain metabolism and energy.\", metadata={\"source\": \"H5\"}),\n",
    "    Document(page_content=\"The solar energy system in modern homes helps balance electricity demand.\", metadata={\"source\": \"I1\"}),\n",
    "    Document(page_content=\"Python balances readability with power, making it a popular system design language.\", metadata={\"source\": \"I2\"}),\n",
    "    Document(page_content=\"Photosynthesis enables plants to produce energy by converting sunlight.\", metadata={\"source\": \"I3\"}),\n",
    "    Document(page_content=\"The 2022 FIFA World Cup was held in Qatar and drew global energy and excitement.\", metadata={\"source\": \"I4\"}),\n",
    "    Document(page_content=\"Black holes bend spacetime and store immense gravitational energy.\", metadata={\"source\": \"I5\"}),\n",
    "]"
   ]
  },
  {
   "cell_type": "code",
   "execution_count": 56,
   "id": "d25ad485",
   "metadata": {},
   "outputs": [],
   "source": [
    "embedding_model = HuggingFaceEmbeddings(\n",
    "    model_name=\"sentence-transformers/all-MiniLM-L6-v2\"\n",
    ")\n",
    "# Create FAISS vector store\n",
    "vector_store = FAISS.from_documents(\n",
    "    embedding=embedding_model,\n",
    "    documents=all_docs\n",
    ")"
   ]
  },
  {
   "cell_type": "code",
   "execution_count": 57,
   "id": "24b2eb78",
   "metadata": {},
   "outputs": [],
   "source": [
    "# Create Retriever\n",
    "similarity_retriever = vector_store.as_retriever(\n",
    "    search_type=\"similarity\",\n",
    "    search_kwargs={\"k\": 5}\n",
    ")"
   ]
  },
  {
   "cell_type": "code",
   "execution_count": 58,
   "id": "3cc531d1",
   "metadata": {},
   "outputs": [],
   "source": [
    "multi_query_retriever = MultiQueryRetriever.from_llm(\n",
    "    retriever=vector_store.as_retriever(search_kwargs={\"k\": 5}),\n",
    "    llm=ChatGoogleGenerativeAI(\n",
    "        model=\"gemini-1.5-flash-8b\",\n",
    "        api_key=os.environ[\"GEMINI_API_KEY\"]\n",
    "    )\n",
    ")"
   ]
  },
  {
   "cell_type": "code",
   "execution_count": 59,
   "id": "1d387e91",
   "metadata": {},
   "outputs": [],
   "source": [
    "query = \"How to improve energy levels and maintain balance?\""
   ]
  },
  {
   "cell_type": "code",
   "execution_count": 60,
   "id": "ae861596",
   "metadata": {},
   "outputs": [],
   "source": [
    "similarity_result = similarity_retriever.invoke(query)\n",
    "multiquery_result = multi_query_retriever.invoke(query)"
   ]
  },
  {
   "cell_type": "code",
   "execution_count": 62,
   "id": "eb143283",
   "metadata": {},
   "outputs": [
    {
     "data": {
      "text/plain": [
       "[Document(id='162ae0f7-28b6-45dc-8881-7a8a64eef8ba', metadata={'source': 'H5'}, page_content='Drinking sufficient water throughout the day helps maintain metabolism and energy.'),\n",
       " Document(id='5f5c9391-b6bd-494a-9e20-2c089b0c4dbb', metadata={'source': 'H2'}, page_content='Consuming leafy greens and fruits helps detox the body and improve longevity.'),\n",
       " Document(id='32b46404-3122-4084-816e-fcf1df817038', metadata={'source': 'H4'}, page_content='Mindfulness and controlled breathing lower cortisol and improve mental clarity.'),\n",
       " Document(id='1be3bb90-1d51-41b1-b7e1-59c3df1bcd4e', metadata={'source': 'I1'}, page_content='The solar energy system in modern homes helps balance electricity demand.'),\n",
       " Document(id='9c56fa5a-3192-4b56-ba54-a944bedcd91e', metadata={'source': 'I3'}, page_content='Photosynthesis enables plants to produce energy by converting sunlight.'),\n",
       " Document(id='76980d81-444d-4f22-8857-6ecf94e4bbdc', metadata={'source': 'H1'}, page_content='Regular walking boosts heart health and can reduce symptoms of depression.'),\n",
       " Document(id='b0a974f2-7fcb-48c5-b1f7-962d030a1c63', metadata={'source': 'H3'}, page_content='Deep sleep is crucial for cellular repair and emotional regulation.')]"
      ]
     },
     "execution_count": 62,
     "metadata": {},
     "output_type": "execute_result"
    }
   ],
   "source": [
    "multiquery_result"
   ]
  },
  {
   "cell_type": "code",
   "execution_count": 61,
   "id": "b2f4e46a",
   "metadata": {},
   "outputs": [
    {
     "name": "stdout",
     "output_type": "stream",
     "text": [
      "\n",
      " --- Result 1 ---\n",
      "Drinking sufficient water throughout the day helps maintain metabolism and energy.\n",
      "\n",
      " --- Result 2 ---\n",
      "The solar energy system in modern homes helps balance electricity demand.\n",
      "\n",
      " --- Result 3 ---\n",
      "Consuming leafy greens and fruits helps detox the body and improve longevity.\n",
      "\n",
      " --- Result 4 ---\n",
      "Mindfulness and controlled breathing lower cortisol and improve mental clarity.\n",
      "\n",
      " --- Result 5 ---\n",
      "Photosynthesis enables plants to produce energy by converting sunlight.\n",
      "****************************************************************************************************\n",
      "\n",
      " --- Result 1 ---\n",
      "Drinking sufficient water throughout the day helps maintain metabolism and energy.\n",
      "\n",
      " --- Result 2 ---\n",
      "Consuming leafy greens and fruits helps detox the body and improve longevity.\n",
      "\n",
      " --- Result 3 ---\n",
      "Mindfulness and controlled breathing lower cortisol and improve mental clarity.\n",
      "\n",
      " --- Result 4 ---\n",
      "The solar energy system in modern homes helps balance electricity demand.\n",
      "\n",
      " --- Result 5 ---\n",
      "Photosynthesis enables plants to produce energy by converting sunlight.\n",
      "\n",
      " --- Result 6 ---\n",
      "Regular walking boosts heart health and can reduce symptoms of depression.\n",
      "\n",
      " --- Result 7 ---\n",
      "Deep sleep is crucial for cellular repair and emotional regulation.\n"
     ]
    }
   ],
   "source": [
    "for i, doc in enumerate(similarity_result):\n",
    "    print(f\"\\n --- Result {i+1} ---\")\n",
    "    print(doc.page_content)\n",
    "    \n",
    "print(\"*\"*100)\n",
    "\n",
    "for i, doc in enumerate(multiquery_result):\n",
    "    print(f\"\\n --- Result {i+1} ---\")\n",
    "    print(doc.page_content)"
   ]
  },
  {
   "cell_type": "code",
   "execution_count": 67,
   "id": "a0eb3cc1",
   "metadata": {},
   "outputs": [
    {
     "data": {
      "text/plain": [
       "True"
      ]
     },
     "execution_count": 67,
     "metadata": {},
     "output_type": "execute_result"
    }
   ],
   "source": [
    "from langchain_community.vectorstores import FAISS\n",
    "from langchain_huggingface import HuggingFaceEmbeddings\n",
    "from langchain_google_genai import ChatGoogleGenerativeAI\n",
    "from langchain.retrievers.contextual_compression import ContextualCompressionRetriever\n",
    "from langchain.retrievers.document_compressors import LLMChainExtractor\n",
    "from langchain_core.documents import Document\n",
    "from dotenv import load_dotenv\n",
    "import os\n",
    "load_dotenv()"
   ]
  },
  {
   "cell_type": "code",
   "execution_count": 68,
   "id": "59edae67",
   "metadata": {},
   "outputs": [],
   "source": [
    "# Recreate the document objects from the previous data\n",
    "docs = [\n",
    "    Document(page_content=(\n",
    "        \"\"\"The Grand Canyon is one of the most visited natural wonders in the world.\n",
    "        Photosynthesis is the process by which green plants convert sunlight into energy.\n",
    "        Millions of tourists travel to see it every year. The rocks date back millions of years.\"\"\"\n",
    "    ), metadata={\"source\": \"Doc1\"}),\n",
    "\n",
    "    Document(page_content=(\n",
    "        \"\"\"In medieval Europe, castles were built primarily for defense.\n",
    "        The chlorophyll in plant cells captures sunlight during photosynthesis.\n",
    "        Knights wore armor made of metal. Siege weapons were often used to breach castle walls.\"\"\"\n",
    "    ), metadata={\"source\": \"Doc2\"}),\n",
    "\n",
    "    Document(page_content=(\n",
    "        \"\"\"Basketball was invented by Dr. James Naismith in the late 19th century.\n",
    "        It was originally played with a soccer ball and peach baskets. NBA is now a global league.\"\"\"\n",
    "    ), metadata={\"source\": \"Doc3\"}),\n",
    "\n",
    "    Document(page_content=(\n",
    "        \"\"\"The history of cinema began in the late 1800s. Silent films were the earliest form.\n",
    "        Thomas Edison was among the pioneers. Photosynthesis does not occur in animal cells.\n",
    "        Modern filmmaking involves complex CGI and sound design.\"\"\"\n",
    "    ), metadata={\"source\": \"Doc4\"})\n",
    "]"
   ]
  },
  {
   "cell_type": "code",
   "execution_count": 69,
   "id": "fc043604",
   "metadata": {},
   "outputs": [],
   "source": [
    "embedding_model = HuggingFaceEmbeddings(\n",
    "    model_name=\"sentence-transformers/all-MiniLM-L6-v2\"\n",
    ")\n",
    "# Create FAISS vector store\n",
    "vector_store = FAISS.from_documents(\n",
    "    embedding=embedding_model,\n",
    "    documents=docs\n",
    ")"
   ]
  },
  {
   "cell_type": "code",
   "execution_count": 70,
   "id": "f7e760b3",
   "metadata": {},
   "outputs": [],
   "source": [
    "base_retriever = vector_store.as_retriever(search_kwargs={\"k\": 5})"
   ]
  },
  {
   "cell_type": "code",
   "execution_count": 72,
   "id": "3bc58dda",
   "metadata": {},
   "outputs": [],
   "source": [
    "# Set up the compressor using an LLM\n",
    "llm = ChatGoogleGenerativeAI(\n",
    "    model=\"gemini-1.5-flash-8b\",\n",
    "    api_key=os.environ[\"GEMINI_API_KEY\"]\n",
    ")\n",
    "compressor = LLMChainExtractor.from_llm(llm=llm)"
   ]
  },
  {
   "cell_type": "code",
   "execution_count": 73,
   "id": "74408ff5",
   "metadata": {},
   "outputs": [],
   "source": [
    "# Create the contextual compression retriever\n",
    "compression_retriever = ContextualCompressionRetriever(\n",
    "    base_retriever=base_retriever,\n",
    "    base_compressor=compressor\n",
    ")"
   ]
  },
  {
   "cell_type": "code",
   "execution_count": 74,
   "id": "757820ab",
   "metadata": {},
   "outputs": [],
   "source": [
    "compressed_result = compression_retriever.invoke(\"What is Photosynthesis?\")"
   ]
  },
  {
   "cell_type": "code",
   "execution_count": 81,
   "id": "d65f9245",
   "metadata": {},
   "outputs": [
    {
     "name": "stdout",
     "output_type": "stream",
     "text": [
      "<class 'list'>\n"
     ]
    }
   ],
   "source": [
    "print(type(compressed_result))"
   ]
  },
  {
   "cell_type": "code",
   "execution_count": 89,
   "id": "64027afb",
   "metadata": {},
   "outputs": [
    {
     "name": "stdout",
     "output_type": "stream",
     "text": [
      "\n",
      "--- Result 1 ---\n",
      "Photosynthesis is the process by which green plants convert sunlight into energy.\n",
      "\n",
      "--- Result 2 ---\n",
      "The chlorophyll in plant cells captures sunlight during photosynthesis.\n",
      "\n",
      "--- Result 3 ---\n",
      "Photosynthesis does not occur in animal cells.\n"
     ]
    }
   ],
   "source": [
    "for i, doc in enumerate(compressed_result):\n",
    "    print(f\"\\n--- Result {i+1} ---\")\n",
    "    print(doc.page_content)\n"
   ]
  },
  {
   "cell_type": "code",
   "execution_count": null,
   "id": "4dd80e31",
   "metadata": {},
   "outputs": [],
   "source": []
  }
 ],
 "metadata": {
  "kernelspec": {
   "display_name": ".venv",
   "language": "python",
   "name": "python3"
  },
  "language_info": {
   "codemirror_mode": {
    "name": "ipython",
    "version": 3
   },
   "file_extension": ".py",
   "mimetype": "text/x-python",
   "name": "python",
   "nbconvert_exporter": "python",
   "pygments_lexer": "ipython3",
   "version": "3.12.2"
  }
 },
 "nbformat": 4,
 "nbformat_minor": 5
}
