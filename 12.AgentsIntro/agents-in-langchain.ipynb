{
 "cells": [
  {
   "cell_type": "code",
   "execution_count": 1,
   "id": "22f2eeb5-c279-463f-9365-906262bcccba",
   "metadata": {},
   "outputs": [
    {
     "name": "stdout",
     "output_type": "stream",
     "text": [
      "\n",
      "\u001b[1m[\u001b[0m\u001b[34;49mnotice\u001b[0m\u001b[1;39;49m]\u001b[0m\u001b[39;49m A new release of pip is available: \u001b[0m\u001b[31;49m25.0.1\u001b[0m\u001b[39;49m -> \u001b[0m\u001b[32;49m25.1.1\u001b[0m\n",
      "\u001b[1m[\u001b[0m\u001b[34;49mnotice\u001b[0m\u001b[1;39;49m]\u001b[0m\u001b[39;49m To update, run: \u001b[0m\u001b[32;49mpip install --upgrade pip\u001b[0m\n",
      "Note: you may need to restart the kernel to use updated packages.\n"
     ]
    }
   ],
   "source": [
    "%pip install -qU duckduckgo-search langchain-community"
   ]
  },
  {
   "cell_type": "code",
   "execution_count": 2,
   "id": "5711cb9d",
   "metadata": {},
   "outputs": [
    {
     "data": {
      "text/plain": [
       "True"
      ]
     },
     "execution_count": 2,
     "metadata": {},
     "output_type": "execute_result"
    }
   ],
   "source": [
    "from langchain_google_genai import ChatGoogleGenerativeAI\n",
    "from langchain_core.tools import tool\n",
    "from dotenv import load_dotenv\n",
    "import os\n",
    "load_dotenv()"
   ]
  },
  {
   "cell_type": "code",
   "execution_count": 4,
   "id": "f25721f7",
   "metadata": {},
   "outputs": [],
   "source": [
    "from langchain_community.tools import DuckDuckGoSearchRun\n",
    "    \n",
    "search_tool = DuckDuckGoSearchRun()\n",
    "response = search_tool.invoke(\"Top news in india today\")"
   ]
  },
  {
   "cell_type": "code",
   "execution_count": 5,
   "id": "9a37d70e",
   "metadata": {},
   "outputs": [
    {
     "data": {
      "text/plain": [
       "'Top News Stories of the day, Latest News Headlines, News Specials, Breaking News and Latest India News, World current affairs & Political News all around the clock at NDTV.com. Breaking News Live Updates: Defence Minister Rajnath Singh has conveyed to his Chinese counterpart Admiral Don Jun that India and China should maintain the positive momentum in the bilateral ties and avoid adding new complexities. Singh held \"constructive\" talks with Don on the sidelines of a conclave of defence ministers of the Shanghai Cooperation Organisation (SCO) in this Chinese port city ... Read all India news and breaking news today from India on politics, business, entertainment, technology, sports, lifestyle and more at CNBC TV18. Get Top News of the day with latest top news headlines of today. Get updated with current top news stories from India and the world only on Zee News. India Weather Forecast Today, Rain Alert LIVE News Updates: Heavy rains likely across Himachal, UP, Kerala, Karnataka today, says IMD India IMD Weather Forecast Today, Rain Alert LIVE News Updates: The southwest monsoon covered the entire country on Sunday, significantly ahead of its normal schedule of July 8.'"
      ]
     },
     "execution_count": 5,
     "metadata": {},
     "output_type": "execute_result"
    }
   ],
   "source": [
    "response"
   ]
  },
  {
   "cell_type": "code",
   "execution_count": 6,
   "id": "7f6e7ae1",
   "metadata": {},
   "outputs": [],
   "source": [
    "llm = ChatGoogleGenerativeAI(\n",
    "    model = \"gemini-2.5-flash-lite-preview-06-17\",\n",
    "    api_key = os.environ[\"GEMINI_API_KEY\"]\n",
    ")"
   ]
  },
  {
   "cell_type": "code",
   "execution_count": 7,
   "id": "a2e356d6-bbb8-43e3-b68e-b63525543bb8",
   "metadata": {},
   "outputs": [
    {
     "data": {
      "text/plain": [
       "AIMessage(content='Hi there! How can I help you today?', additional_kwargs={}, response_metadata={'prompt_feedback': {'block_reason': 0, 'safety_ratings': []}, 'finish_reason': 'STOP', 'safety_ratings': []}, id='run--b554489c-cc51-481b-8690-e822a5c69188-0', usage_metadata={'input_tokens': 2, 'output_tokens': 10, 'total_tokens': 12, 'input_token_details': {'cache_read': 0}})"
      ]
     },
     "execution_count": 7,
     "metadata": {},
     "output_type": "execute_result"
    }
   ],
   "source": [
    "llm.invoke(\"Hi\")"
   ]
  },
  {
   "cell_type": "code",
   "execution_count": 8,
   "id": "11753236-72e8-42b0-8238-4771419cdb71",
   "metadata": {},
   "outputs": [],
   "source": [
    "from langchain.agents import create_react_agent, AgentExecutor\n",
    "from langchain import hub"
   ]
  },
  {
   "cell_type": "code",
   "execution_count": 9,
   "id": "38038da6-a8ff-4d30-9ced-60ae05d47b9e",
   "metadata": {},
   "outputs": [
    {
     "name": "stderr",
     "output_type": "stream",
     "text": [
      "/home/nf/Documents/projects-and-notes/LangChain-CampusX/.venv/lib/python3.13/site-packages/langsmith/client.py:272: LangSmithMissingAPIKeyWarning: API key must be provided when using hosted LangSmith API\n",
      "  warnings.warn(\n"
     ]
    }
   ],
   "source": [
    "# Step 2: pull the react prompt from langchain hub\n",
    "# ReAct (Design Pattern) -> Reasoning + Action\n",
    "prompt = hub.pull(\"hwchase17/react\") # Pull the standard pre defined ReAct agent prompt"
   ]
  },
  {
   "cell_type": "code",
   "execution_count": 10,
   "id": "ee0dbf63-dad6-4da8-87a9-a79c1b295673",
   "metadata": {},
   "outputs": [],
   "source": [
    "# Step 3: Create the ReAct agent manually with pulled prompt\n",
    "agent = create_react_agent(\n",
    "    llm=llm,\n",
    "    tools=[search_tool],\n",
    "    prompt=prompt\n",
    ")"
   ]
  },
  {
   "cell_type": "code",
   "execution_count": 11,
   "id": "a4c57da9-d426-43b1-b4c9-63c77cc41d2b",
   "metadata": {},
   "outputs": [],
   "source": [
    "# Step 4: Wrap it with AgentExecutor\n",
    "agent_executor = AgentExecutor(\n",
    "    agent=agent,\n",
    "    tools=[search_tool],\n",
    "    verbose=True\n",
    ")"
   ]
  },
  {
   "cell_type": "code",
   "execution_count": 14,
   "id": "8ae82186-6334-422f-aa7e-7c2ab6640a58",
   "metadata": {},
   "outputs": [
    {
     "name": "stdout",
     "output_type": "stream",
     "text": [
      "\n",
      "\n",
      "\u001b[1m> Entering new AgentExecutor chain...\u001b[0m\n",
      "\u001b[32;1m\u001b[1;3mI need to find four places to visit in Mathura. I will use DuckDuckGo search to find this information.\n",
      "Action: duckduckgo_search\n",
      "Action Input: places to visit in Mathura\u001b[0m\u001b[36;1m\u001b[1;3mRead about the Best Places to Visit in Mathura, the birthplace of Lord Krishna, the iconic temples, serene ghats, cultural landmarks, and other places in this holy city. Dive into the soulful world of Mathura-Vrindavan with these 14 must-visit places that will leave you awe-inspired. There are various places to visit in Mathura in 2025 that you can visit if peace, serenity, and joy are what you are looking for. Read on and plan a trip. Top 20 Best Places To Visit In Mathura Mathura is a beautiful city in India that holds great importance in Hindu culture. It is famous as the birthplace of Lord Krishna, making it a popular destination for pilgrims and tourists alike. Planning to visit the sacred city of Mathura? Make sure to soak in its quintessential vibe! Check out our list of the top things Mathura is famous for.\u001b[0m\u001b[32;1m\u001b[1;3mThe search results mention \"14 must-visit places\" and \"Top 20 Best Places To Visit In Mathura\". I need to extract four distinct places from these results to answer the question. I will refine my search to get a list of specific places.\n",
      "Action: duckduckgo_search\n",
      "Action Input: top 4 places to visit in Mathura\u001b[0m\u001b[36;1m\u001b[1;3mRead about the Best Places to Visit in Mathura, the birthplace of Lord Krishna, the iconic temples, serene ghats, cultural landmarks, and other places in this holy city. Planning a trip to Mathura? We've got you covered with the best tourist places that'll make your trip complete. Planning a trip to Mathura & Vrindavan? Check out the top 15 tourist places including Krishna Janmabhoomi, Banke Bihari Temple, and Prem Mandir. Are you dreaming of walking through the land where Lord Krishna once played, loved, and preached? Mathura is not just a place; it's an emotion. And if you're planning to explore the most spiritual and historical places to visit in Mathura in 2025, this guide is made for you — written with care, truth, and a heart full of bhakti. As a trusted travel partner with years of experience in ... There are various places to visit in Mathura in 2025 that you can visit if peace, serenity, and joy are what you are looking for. Read on and plan a trip.\u001b[0m\u001b[32;1m\u001b[1;3mThe search results provide several specific places to visit in Mathura, such as Krishna Janmabhoomi, Banke Bihari Temple, and Prem Mandir. I have enough information to answer the question.\n",
      "Final Answer: Here are four places to visit in Mathura: 1. Krishna Janmabhoomi Temple 2. Banke Bihari Temple 3. Prem Mandir 4. Vishram Ghat\u001b[0m\n",
      "\n",
      "\u001b[1m> Finished chain.\u001b[0m\n"
     ]
    }
   ],
   "source": [
    "# Step 5: Invoke\n",
    "response = agent_executor.invoke({\"input\": \"Give 4 places to visit in Mathura\"})"
   ]
  },
  {
   "cell_type": "code",
   "execution_count": 15,
   "id": "215cb80b-46f5-4cfb-9018-25e6ffd5b509",
   "metadata": {},
   "outputs": [
    {
     "data": {
      "text/plain": [
       "'Here are four places to visit in Mathura: 1. Krishna Janmabhoomi Temple 2. Banke Bihari Temple 3. Prem Mandir 4. Vishram Ghat'"
      ]
     },
     "execution_count": 15,
     "metadata": {},
     "output_type": "execute_result"
    }
   ],
   "source": [
    "response[\"output\"]"
   ]
  },
  {
   "cell_type": "code",
   "execution_count": null,
   "id": "e15244a4-d3b3-4367-8be3-3812c9e291e3",
   "metadata": {},
   "outputs": [],
   "source": []
  }
 ],
 "metadata": {
  "kernelspec": {
   "display_name": "Python 3 (ipykernel)",
   "language": "python",
   "name": "python3"
  },
  "language_info": {
   "codemirror_mode": {
    "name": "ipython",
    "version": 3
   },
   "file_extension": ".py",
   "mimetype": "text/x-python",
   "name": "python",
   "nbconvert_exporter": "python",
   "pygments_lexer": "ipython3",
   "version": "3.13.3"
  }
 },
 "nbformat": 4,
 "nbformat_minor": 5
}
